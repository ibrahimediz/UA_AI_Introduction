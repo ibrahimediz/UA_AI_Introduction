{
 "cells": [
  {
   "cell_type": "markdown",
   "metadata": {},
   "source": [
    "Aşağıdaki kodlardan faydanalarak istenilen uzunlukta içerisinde;\n",
    "* en az bir büyük harf,\n",
    "* en az bir küçük harf,\n",
    "* en az bir rakam\n",
    "* en az bir noktalama işareti \n",
    "bulunduran bir şifre üreten fonksiyon yazınız"
   ]
  },
  {
   "cell_type": "code",
   "execution_count": 1,
   "metadata": {},
   "outputs": [],
   "source": [
    "from string import ascii_uppercase,ascii_lowercase,digits,punctuation\n",
    "import random as rnd\n",
    "# rnd.choice()\n"
   ]
  },
  {
   "cell_type": "code",
   "execution_count": 2,
   "metadata": {},
   "outputs": [
    {
     "data": {
      "text/plain": [
       "('ABCDEFGHIJKLMNOPQRSTUVWXYZ',\n",
       " 'abcdefghijklmnopqrstuvwxyz',\n",
       " '0123456789',\n",
       " '!\"#$%&\\'()*+,-./:;<=>?@[\\\\]^_`{|}~')"
      ]
     },
     "execution_count": 2,
     "metadata": {},
     "output_type": "execute_result"
    }
   ],
   "source": [
    "ascii_uppercase,ascii_lowercase,digits,punctuation"
   ]
  },
  {
   "cell_type": "code",
   "execution_count": 9,
   "metadata": {},
   "outputs": [
    {
     "data": {
      "text/plain": [
       "'L'"
      ]
     },
     "execution_count": 9,
     "metadata": {},
     "output_type": "execute_result"
    }
   ],
   "source": [
    "rnd.choice(rnd.choice([ascii_uppercase,ascii_lowercase,digits,punctuation]))"
   ]
  },
  {
   "cell_type": "code",
   "execution_count": 18,
   "metadata": {},
   "outputs": [
    {
     "name": "stdout",
     "output_type": "stream",
     "text": [
      "Buradayım\n",
      "Buradayım\n",
      "Buradayım\n",
      "Buradayım\n",
      "Buradayım\n",
      "Buradayım\n",
      "Buradayım\n",
      "Buradayım\n"
     ]
    },
    {
     "data": {
      "text/plain": [
       "'E7m>'"
      ]
     },
     "execution_count": 18,
     "metadata": {},
     "output_type": "execute_result"
    }
   ],
   "source": [
    "def sifreKont(sifre):\n",
    "    bHarf = kHarf = rakam = noktalam = False\n",
    "    for item in sifre:\n",
    "        if item.isalpha():\n",
    "            if item.isupper():\n",
    "                bHarf = True\n",
    "            else:\n",
    "                kHarf = True\n",
    "        elif item.isdigit():\n",
    "            rakam = True\n",
    "        elif item in punctuation:\n",
    "            noktalam = True\n",
    "    return bHarf and kHarf and rakam and noktalam\n",
    "\n",
    "\n",
    "def sifreUret(uzunluk=12):\n",
    "    sifre = \"\"\n",
    "    while not sifreKont(sifre):\n",
    "        print(\"Buradayım\")\n",
    "        sifre = \"\"\n",
    "        for i in range(uzunluk):\n",
    "            sifre += rnd.choice(rnd.choice([ascii_uppercase,ascii_lowercase,digits,punctuation]))\n",
    "    else:\n",
    "        return sifre\n",
    "sifreUret(4)"
   ]
  },
  {
   "cell_type": "code",
   "execution_count": null,
   "metadata": {},
   "outputs": [],
   "source": []
  }
 ],
 "metadata": {
  "kernelspec": {
   "display_name": "Python 3",
   "language": "python",
   "name": "python3"
  },
  "language_info": {
   "codemirror_mode": {
    "name": "ipython",
    "version": 3
   },
   "file_extension": ".py",
   "mimetype": "text/x-python",
   "name": "python",
   "nbconvert_exporter": "python",
   "pygments_lexer": "ipython3",
   "version": "3.12.1"
  }
 },
 "nbformat": 4,
 "nbformat_minor": 2
}
