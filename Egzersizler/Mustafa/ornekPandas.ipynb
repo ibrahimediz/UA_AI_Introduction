{
 "cells": [
  {
   "cell_type": "markdown",
   "metadata": {},
   "source": [
    "```\n",
    "Data/heart_disease.csv\n",
    "yukarıdaki adresten faydalanarak pandas modülünü kullanarak dataseti okuyup dataframe olarak değişken oluşturalım\n",
    "``````"
   ]
  }
 ],
 "metadata": {
  "language_info": {
   "name": "python"
  }
 },
 "nbformat": 4,
 "nbformat_minor": 2
}
