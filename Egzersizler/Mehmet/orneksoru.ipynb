{
 "cells": [
  {
   "cell_type": "markdown",
   "metadata": {},
   "source": [
    "Aşağıdaki kodlardan faydanalarak istenilen uzunlukta içerisinde;\n",
    "* en az bir büyük harf,\n",
    "* en az bir küçük harf,\n",
    "* en az bir rakam\n",
    "* en az bir noktalama işareti \n",
    "bulunduran bir şifre üreten fonksiyon yazınız"
   ]
  },
  {
   "cell_type": "code",
   "execution_count": null,
   "metadata": {},
   "outputs": [],
   "source": [
    "from string import ascii_uppercase,ascii_lowercase,digits,punctuation\n",
    "import random as rnd\n",
    "rnd.choice()\n",
    "\n",
    "kontrol=[0,0,0,0]\n",
    "def sifre_uret(karakter_sayisi):\n",
    "    rnd.choice(rnd.choice([ascii_uppercase,ascii_lowercase,digits,punctuation]))\n",
    "\n"
   ]
  }
 ],
 "metadata": {
  "language_info": {
   "name": "python"
  }
 },
 "nbformat": 4,
 "nbformat_minor": 2
}
