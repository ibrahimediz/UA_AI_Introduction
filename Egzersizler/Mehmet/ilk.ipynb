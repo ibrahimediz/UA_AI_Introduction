{
 "cells": [
  {
   "cell_type": "code",
   "execution_count": 10,
   "metadata": {},
   "outputs": [
    {
     "name": "stdout",
     "output_type": "stream",
     "text": [
      "Merhaba 2 2.5\n",
      "2 =>var1 veri tipi <class 'int'>\n",
      "2.0 =>var2 veri tipi <class 'float'>\n",
      "(2+4j) =>var3 veri tipi <class 'complex'>\n",
      "Eğitim =>var4 veri tipi <class 'str'>\n",
      "[1, 2, 3, 4, 'Eğitim'] =>var5 veri tipi <class 'list'>\n",
      "(1, 2, 3, 4, 'Eğitim') =>var6 veri tipi <class 'tuple'>\n",
      "{'first name': 'Mehmet', 'last_name': 'TUYGUN'} =>var7 veri tipi <class 'dict'>\n"
     ]
    }
   ],
   "source": [
    "print(\"Merhaba\",2,2.5)\n",
    "\n",
    "var1 =2\n",
    "var1\n",
    "\n",
    "var1 =2\n",
    "var2 =2.0\n",
    "var3 =2.0 +4j\n",
    "\n",
    "print(var1,\"=>var1 veri tipi\",type(var1))\n",
    "print(var2,\"=>var2 veri tipi\",type(var2))\n",
    "print(var3,\"=>var3 veri tipi\",type(var3))\n",
    "\n",
    "var4 = \"Eğitim\"\n",
    "var5 = [1,2,3,4,\"Eğitim\"]\n",
    "var6 = (1,2,3,4,\"Eğitim\") \n",
    "print(var4,\"=>var4 veri tipi\",type(var4))\n",
    "print(var5,\"=>var5 veri tipi\",type(var5))\n",
    "print(var6,\"=>var6 veri tipi\",type(var6))\n",
    "\n",
    "var7 = {\n",
    "    \"first name\" :\"Mehmet\",\n",
    "    \"last_name\":\"TUYGUN\"\n",
    "}\n",
    "print(var7,\"=>var7 veri tipi\",type(var7))"
   ]
  },
  {
   "cell_type": "code",
   "execution_count": null,
   "metadata": {},
   "outputs": [],
   "source": []
  }
 ],
 "metadata": {
  "kernelspec": {
   "display_name": "Python 3",
   "language": "python",
   "name": "python3"
  },
  "language_info": {
   "codemirror_mode": {
    "name": "ipython",
    "version": 3
   },
   "file_extension": ".py",
   "mimetype": "text/x-python",
   "name": "python",
   "nbconvert_exporter": "python",
   "pygments_lexer": "ipython3",
   "version": "3.12.1"
  }
 },
 "nbformat": 4,
 "nbformat_minor": 2
}
