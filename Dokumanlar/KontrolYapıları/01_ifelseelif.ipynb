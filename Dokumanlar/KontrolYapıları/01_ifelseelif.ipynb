{
 "cells": [
  {
   "cell_type": "markdown",
   "metadata": {},
   "source": [
    "# Karşılaştırma Yapılar\n",
    "* Girinti (indentitation) kavramı\n",
    "* if\n",
    "* else\n",
    "* elif\n",
    "* match case\n",
    "* Tek satırda if else yazımı"
   ]
  },
  {
   "cell_type": "markdown",
   "metadata": {},
   "source": [
    "## Girinti (indentitation) kavramı\n",
    "```\n",
    "a = 2 \n",
    "if a == 2:\n",
    "....print(\"a 2 ye eşit\") => .... girinti\n",
    "girinti içerisindeki kodlar if koşulu gerçekleştirildiğinde çalışır\n",
    "```"
   ]
  },
  {
   "cell_type": "code",
   "execution_count": 1,
   "metadata": {},
   "outputs": [
    {
     "name": "stdout",
     "output_type": "stream",
     "text": [
      "a 2 ye eşit\n"
     ]
    }
   ],
   "source": [
    "a = 2 \n",
    "if a == 2:\n",
    "    print(\"a 2 ye eşit\")\n"
   ]
  },
  {
   "cell_type": "code",
   "execution_count": 7,
   "metadata": {},
   "outputs": [
    {
     "name": "stdout",
     "output_type": "stream",
     "text": [
      "a 2 ye eşit\n",
      "Merhaba\n",
      "a çift\n"
     ]
    }
   ],
   "source": [
    "a = 2 \n",
    "if a == 2: # 1\n",
    "    print(\"a 2 ye eşit\")\n",
    "    print(\"Merhaba\")\n",
    "    if a % 2 == 0: # 2\n",
    "        pass # 2\n",
    "    print(\"a çift\") # 1"
   ]
  },
  {
   "cell_type": "markdown",
   "metadata": {},
   "source": [
    "## if"
   ]
  },
  {
   "cell_type": "code",
   "execution_count": 9,
   "metadata": {},
   "outputs": [],
   "source": [
    "a = 0\n",
    "b = \"\"\n",
    "c = []\n",
    "d = {}\n",
    "if a: # değişken boş veri taşıdığı için False yanıtı döner\n",
    "    print(\"Dolu\")"
   ]
  },
  {
   "cell_type": "code",
   "execution_count": 13,
   "metadata": {},
   "outputs": [
    {
     "name": "stdout",
     "output_type": "stream",
     "text": [
      "Dolu\n"
     ]
    }
   ],
   "source": [
    "a = 2\n",
    "b = \" \"\n",
    "c = [1]\n",
    "d = {\"1\":\"Bir\"}\n",
    "if a: # değişken veri taşıdığı için True yanıtı döner\n",
    "    print(\"Dolu\")"
   ]
  },
  {
   "cell_type": "code",
   "execution_count": 15,
   "metadata": {},
   "outputs": [
    {
     "name": "stdout",
     "output_type": "stream",
     "text": [
      "Merhaba Ali\n"
     ]
    }
   ],
   "source": [
    "adi = input(\"Adınızı Giriniz:\")\n",
    "if adi:\n",
    "    print(\"Merhaba\",adi)"
   ]
  },
  {
   "cell_type": "code",
   "execution_count": 16,
   "metadata": {},
   "outputs": [
    {
     "name": "stdout",
     "output_type": "stream",
     "text": [
      "a pozitif sayıdır\n",
      "a çift bir sayıdır\n",
      "a bir rakamdır\n"
     ]
    }
   ],
   "source": [
    "a = 2\n",
    "if a > 0:\n",
    "    print(\"a pozitif sayıdır\")\n",
    "if a % 2 == 0:\n",
    "    print(\"a çift bir sayıdır\")\n",
    "if a >= 0 and a < 10:\n",
    "    print(\"a bir rakamdır\")"
   ]
  },
  {
   "cell_type": "code",
   "execution_count": 20,
   "metadata": {},
   "outputs": [
    {
     "name": "stdout",
     "output_type": "stream",
     "text": [
      "a bir rakamdır\n"
     ]
    }
   ],
   "source": [
    "if  0 <= a < 10:\n",
    "    print(\"a bir rakamdır\")"
   ]
  },
  {
   "cell_type": "code",
   "execution_count": 22,
   "metadata": {},
   "outputs": [],
   "source": [
    "# if f:\n",
    "#     print(\"Dolu\")"
   ]
  },
  {
   "cell_type": "markdown",
   "metadata": {},
   "source": [
    "## else"
   ]
  },
  {
   "cell_type": "code",
   "execution_count": 28,
   "metadata": {},
   "outputs": [
    {
     "name": "stdout",
     "output_type": "stream",
     "text": [
      "Yurt Dışına Çıkabilir\n",
      "Program Çalışmaya Devam Etti\n"
     ]
    }
   ],
   "source": [
    "yas = input(\"Yaşınızı Giriniz:\")\n",
    "if yas and yas.isdigit():\n",
    "    yas = int(yas)\n",
    "    if yas > 20:\n",
    "        print(\"Yurt Dışına Çıkabilir\")\n",
    "    else:\n",
    "        print(\"Çıkış Yapamaz\")\n",
    "else:\n",
    "    print(\"Yanlış Giriş Yapıldı\")\n",
    "print(\"Program Çalışmaya Devam Etti\")"
   ]
  },
  {
   "cell_type": "markdown",
   "metadata": {},
   "source": [
    "***Örnek***<br>\n",
    "Soru : iki açısı girilen bir üçgenin \"ikizkenar üçgen,dik üçgen,eşkenar üçgen,çeşitkenar üçgen\" seçeneklerinden hangisine ait olduğunu tespit eden python kodunu yazınız"
   ]
  },
  {
   "cell_type": "code",
   "execution_count": 9,
   "metadata": {},
   "outputs": [
    {
     "name": "stdout",
     "output_type": "stream",
     "text": [
      "Açı Hatası\n"
     ]
    }
   ],
   "source": [
    "aci1 = input(\"1. Açıyı Giriniz:\")\n",
    "aci2 = input(\"2. Açıyı Giriniz:\")\n",
    "if aci1 and aci1.isdigit() and aci2 and aci2.isdigit():\n",
    "    # aci1,aci2,aci3 = int(aci1),int(aci2),180-(int(aci1)+int(aci2))\n",
    "    liste = [int(aci1),int(aci2),180-(int(aci1)+int(aci2))]\n",
    "    if sum(liste) == 180 and int(aci1)+int(aci2) != 180:\n",
    "        acilar = set(liste)\n",
    "        print(acilar)\n",
    "        if len(acilar) == 1:\n",
    "            print(\"Eşkenar Üçgen\")\n",
    "        elif len(acilar) == 3:\n",
    "            print(\"Çeşitkenar Üçgen\")\n",
    "        elif len(acilar) == 2:\n",
    "            print(\"İkizkenar Üçgen\")\n",
    "        if 90  in acilar:\n",
    "            print(\"Dik Üçgen\")\n",
    "    else:\n",
    "        print(\"Açı Hatası\")\n",
    "else:\n",
    "    print(\"Giriş Hatası\")\n",
    "\n"
   ]
  },
  {
   "cell_type": "markdown",
   "metadata": {},
   "source": [
    "## elif"
   ]
  },
  {
   "cell_type": "code",
   "execution_count": 12,
   "metadata": {},
   "outputs": [
    {
     "name": "stdout",
     "output_type": "stream",
     "text": [
      "DD\n"
     ]
    }
   ],
   "source": [
    "\"\"\"\n",
    "85-100 => AA\n",
    "70-84 => BB\n",
    "60-69 => CC\n",
    "50-59 => DD\n",
    "\"\"\"\n",
    "_not = int(input(\"Notunuzu Giriniz:\"))\n",
    "if _not >= 85 and 100 > _not:\n",
    "    print(\"AA\")\n",
    "else:\n",
    "    if _not >= 70 and 85 > _not:\n",
    "        print(\"BB\")\n",
    "    else:\n",
    "        if _not >= 60 and 70 > _not:\n",
    "            print(\"CC\")\n",
    "        else:\n",
    "            if _not >= 50 and 60 > _not:\n",
    "                print(\"DD\")\n",
    "            else:\n",
    "                print(\"Not Hatası\")"
   ]
  },
  {
   "cell_type": "code",
   "execution_count": 14,
   "metadata": {},
   "outputs": [
    {
     "name": "stdout",
     "output_type": "stream",
     "text": [
      "DD\n"
     ]
    }
   ],
   "source": [
    "_not = int(input(\"Notunuzu Giriniz:\"))\n",
    "if  85 <= _not <= 100:    # _not >= 85 and 100 > _not:\n",
    "    print(\"AA\")\n",
    "elif 70 <= _not < 85:     #_not >= 70 and 85 > _not:\n",
    "    print(\"BB\")\n",
    "elif 60 <= _not < 70:     #_not >= 60 and 70 > _not:\n",
    "    print(\"CC\")\n",
    "elif 50 <= _not < 60:     #_not >= 50 and 60 > _not:\n",
    "    print(\"DD\")\n",
    "else:\n",
    "    print(\"Not Hatası\")"
   ]
  },
  {
   "cell_type": "markdown",
   "metadata": {},
   "source": [
    "## match case "
   ]
  },
  {
   "cell_type": "code",
   "execution_count": 26,
   "metadata": {},
   "outputs": [
    {
     "name": "stdout",
     "output_type": "stream",
     "text": [
      "Tebrikler\n"
     ]
    }
   ],
   "source": [
    "_not = int(input(\"Notunuzu Giriniz:\"))\n",
    "if  85 <= _not <= 100:    # _not >= 85 and 100 > _not:\n",
    "   sonuc = \"AA\"\n",
    "elif 70 <= _not < 85:     #_not >= 70 and 85 > _not:\n",
    "    sonuc = \"BB\"\n",
    "elif 60 <= _not < 70:     #_not >= 60 and 70 > _not:\n",
    "    sonuc = \"CC\"\n",
    "elif 50 <= _not < 60:     #_not >= 50 and 60 > _not:\n",
    "    sonuc = \"DD\"\n",
    "else:\n",
    "    sonuc = \"Not Hatası\"\n",
    "match sonuc:\n",
    "    case \"AA\":\n",
    "        print(\"Tebrikler\")\n",
    "    case \"BB\":\n",
    "        print(\"Terbrik\")\n",
    "    case \"CC\":\n",
    "        print(\"Fena Değil\")\n",
    "    case \"DD\":\n",
    "        print(\"Yaz Okulu Hoşgeldin\")\n",
    "    case _:\n",
    "        print(\"Baba diyor sınıfta başka çocuklarda var diyor\")"
   ]
  },
  {
   "cell_type": "markdown",
   "metadata": {},
   "source": [
    "## Tek satırda if else yazımı"
   ]
  },
  {
   "cell_type": "code",
   "execution_count": 27,
   "metadata": {},
   "outputs": [
    {
     "name": "stdout",
     "output_type": "stream",
     "text": [
      "a 2 dir\n"
     ]
    }
   ],
   "source": [
    "a = 2 \n",
    "if a == 2:print(\"a 2 dir\")\n",
    "else:print(\"Bilinmiyor\")"
   ]
  },
  {
   "cell_type": "code",
   "execution_count": 31,
   "metadata": {},
   "outputs": [
    {
     "data": {
      "text/plain": [
       "'Tek'"
      ]
     },
     "execution_count": 31,
     "metadata": {},
     "output_type": "execute_result"
    }
   ],
   "source": [
    "sonuc = \"Tek\" if 5 % 2 != 0 else \"Çift\"\n",
    "#      DOĞRU if ŞART else YANLIŞ \n",
    "sonuc"
   ]
  },
  {
   "cell_type": "code",
   "execution_count": 30,
   "metadata": {},
   "outputs": [
    {
     "name": "stdout",
     "output_type": "stream",
     "text": [
      "Çift\n"
     ]
    }
   ],
   "source": [
    "print(\"Tek\" if int(input(\"Sayıyı Giriniz:\")) % 2 != 0 else \"Çift\")"
   ]
  },
  {
   "cell_type": "code",
   "execution_count": null,
   "metadata": {},
   "outputs": [],
   "source": []
  }
 ],
 "metadata": {
  "kernelspec": {
   "display_name": "Python 3",
   "language": "python",
   "name": "python3"
  },
  "language_info": {
   "codemirror_mode": {
    "name": "ipython",
    "version": 3
   },
   "file_extension": ".py",
   "mimetype": "text/x-python",
   "name": "python",
   "nbconvert_exporter": "python",
   "pygments_lexer": "ipython3",
   "version": "3.12.0"
  }
 },
 "nbformat": 4,
 "nbformat_minor": 2
}
