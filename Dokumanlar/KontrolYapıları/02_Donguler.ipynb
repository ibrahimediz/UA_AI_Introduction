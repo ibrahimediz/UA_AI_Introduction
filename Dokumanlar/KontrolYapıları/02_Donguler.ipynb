{
 "cells": [
  {
   "cell_type": "markdown",
   "metadata": {},
   "source": [
    "# Döngüler\n",
    "* range\n",
    "* `*` unpacking operator\n",
    "* for \n",
    "* while\n",
    "* break\n",
    "* continue\n",
    "* else"
   ]
  },
  {
   "cell_type": "markdown",
   "metadata": {},
   "source": [
    "## range\n",
    "`range(başlangıç,bitiş(e kadar),adım)`"
   ]
  },
  {
   "cell_type": "code",
   "execution_count": 4,
   "metadata": {},
   "outputs": [
    {
     "data": {
      "text/plain": [
       "range(10, 1)"
      ]
     },
     "execution_count": 4,
     "metadata": {},
     "output_type": "execute_result"
    }
   ],
   "source": [
    "range(0,5) # 0 1 2 3 4\n",
    "range(5) # 0 1 2 3 4 \n",
    "range(2,10) # 2 3 4 5 6 7 8 9\n",
    "range(0,11,2) # 2 4 6 8 10\n",
    "range(10,2,-2) # 10 8 6 4 \n",
    "range(10,1) # None"
   ]
  },
  {
   "cell_type": "markdown",
   "metadata": {},
   "source": [
    "## `*` unpacking operator"
   ]
  },
  {
   "cell_type": "code",
   "execution_count": 6,
   "metadata": {},
   "outputs": [
    {
     "name": "stdout",
     "output_type": "stream",
     "text": [
      "0 1 2 3 4\n",
      "0 1 2 3 4\n",
      "2 3 4 5 6 7 8 9\n",
      "0 2 4 6 8 10\n",
      "10 8 6 4\n",
      "\n"
     ]
    }
   ],
   "source": [
    "print(*range(0,5)) # 0 1 2 3 4\n",
    "print(*range(5)) # 0 1 2 3 4 \n",
    "print(*range(2,10)) # 2 3 4 5 6 7 8 9\n",
    "print(*range(0,11,2)) # 2 4 6 8 10\n",
    "print(*range(10,2,-2)) # 10 8 6 4 \n",
    "print(*range(10,1)) # None"
   ]
  },
  {
   "cell_type": "code",
   "execution_count": 8,
   "metadata": {},
   "outputs": [
    {
     "name": "stdout",
     "output_type": "stream",
     "text": [
      "1-2-3-4-5\n"
     ]
    }
   ],
   "source": [
    "liste = [1,2,3,4,5]\n",
    "print(*liste,sep=\"-\")"
   ]
  },
  {
   "cell_type": "code",
   "execution_count": 10,
   "metadata": {},
   "outputs": [
    {
     "name": "stdout",
     "output_type": "stream",
     "text": [
      "B*E*T*A* *A*K*A*D*E*M*I\n"
     ]
    }
   ],
   "source": [
    "var1 = \"Beta Akademi\".upper()\n",
    "print(*var1,sep=\"*\")"
   ]
  },
  {
   "cell_type": "markdown",
   "metadata": {},
   "source": [
    "***Don't Repeat Yourself=>DRY !!!!!***<br>\n",
    "***We Enjoy Texting=>WET***"
   ]
  },
  {
   "cell_type": "markdown",
   "metadata": {},
   "source": [
    "## for"
   ]
  },
  {
   "cell_type": "code",
   "execution_count": 17,
   "metadata": {},
   "outputs": [
    {
     "name": "stdout",
     "output_type": "stream",
     "text": [
      "2\n",
      "3\n",
      "5\n"
     ]
    }
   ],
   "source": [
    "a = 1\n",
    "b = 1\n",
    "c = a + b\n",
    "print(c)\n",
    "a = b\n",
    "b = c\n",
    "c = a+b\n",
    "print(c)\n",
    "a = b\n",
    "b = c\n",
    "c = a+b\n",
    "print(c)\n"
   ]
  },
  {
   "cell_type": "code",
   "execution_count": 18,
   "metadata": {},
   "outputs": [
    {
     "name": "stdout",
     "output_type": "stream",
     "text": [
      "2\n",
      "3\n",
      "5\n"
     ]
    }
   ],
   "source": [
    "a = b = 1\n",
    "print(a+b)\n",
    "a,b = b,a+b\n",
    "print(a+b)\n",
    "a,b = b,a+b\n",
    "print(a+b)\n",
    "a,b = b,a+b\n"
   ]
  },
  {
   "cell_type": "code",
   "execution_count": 29,
   "metadata": {},
   "outputs": [
    {
     "name": "stdout",
     "output_type": "stream",
     "text": [
      "2\n",
      "3\n",
      "5\n",
      "8\n",
      "13\n"
     ]
    }
   ],
   "source": [
    "a = b = 1\n",
    "for i in range(5):\n",
    "    print(a+b)\n",
    "    a,b = b,a+b"
   ]
  },
  {
   "cell_type": "code",
   "execution_count": 31,
   "metadata": {},
   "outputs": [
    {
     "name": "stdout",
     "output_type": "stream",
     "text": [
      "10\n",
      "20\n",
      "30\n",
      "40\n"
     ]
    }
   ],
   "source": [
    "liste = [10,20,30,40] # foreach\n",
    "#        0  1  2  3\n",
    "for i in range(4): # 0 1 2 3\n",
    "    print(liste[i])"
   ]
  },
  {
   "cell_type": "code",
   "execution_count": 34,
   "metadata": {},
   "outputs": [
    {
     "name": "stdout",
     "output_type": "stream",
     "text": [
      "10\n",
      "20\n",
      "30\n",
      "40\n",
      "50\n"
     ]
    }
   ],
   "source": [
    "liste = [10,20,30,40,50] # foreach\n",
    "#        0  1  2  3  4\n",
    "for i in range(len(liste)): # 0 1 2 3 4\n",
    "    print(liste[i])"
   ]
  },
  {
   "cell_type": "code",
   "execution_count": 39,
   "metadata": {},
   "outputs": [
    {
     "name": "stdout",
     "output_type": "stream",
     "text": [
      "10\n",
      "20\n",
      "30\n",
      "40\n",
      "50\n",
      "20\n",
      "30\n"
     ]
    }
   ],
   "source": [
    "liste = [10,20,30,40,50,20,30,] # for each\n",
    "for item in liste:\n",
    "    print(item)"
   ]
  },
  {
   "cell_type": "code",
   "execution_count": 41,
   "metadata": {},
   "outputs": [
    {
     "name": "stdout",
     "output_type": "stream",
     "text": [
      "T\n",
      "u\n",
      "r\n",
      "k\n",
      " \n",
      "T\n",
      "e\n",
      "l\n",
      "e\n",
      "k\n",
      "o\n",
      "m\n"
     ]
    }
   ],
   "source": [
    "var1 = \"Turk Telekom\"\n",
    "for item in var1:\n",
    "    print(item)"
   ]
  },
  {
   "cell_type": "code",
   "execution_count": 42,
   "metadata": {},
   "outputs": [
    {
     "name": "stdout",
     "output_type": "stream",
     "text": [
      "1\n",
      "2\n",
      "3\n"
     ]
    }
   ],
   "source": [
    "sozluk = {\"1\":\"Bir\",\"2\":\"İki\",\"3\":\"Üç\"}\n",
    "for item in sozluk:\n",
    "    print(item)"
   ]
  },
  {
   "cell_type": "code",
   "execution_count": 43,
   "metadata": {},
   "outputs": [
    {
     "name": "stdout",
     "output_type": "stream",
     "text": [
      "('1', 'Bir')\n",
      "('2', 'İki')\n",
      "('3', 'Üç')\n"
     ]
    }
   ],
   "source": [
    "for item in sozluk.items():\n",
    "    print(item)"
   ]
  },
  {
   "cell_type": "code",
   "execution_count": 44,
   "metadata": {},
   "outputs": [
    {
     "name": "stdout",
     "output_type": "stream",
     "text": [
      "1\n",
      "2\n",
      "3\n"
     ]
    }
   ],
   "source": [
    "for item in sozluk.keys():\n",
    "    print(item)"
   ]
  },
  {
   "cell_type": "code",
   "execution_count": 45,
   "metadata": {},
   "outputs": [
    {
     "name": "stdout",
     "output_type": "stream",
     "text": [
      "Bir\n",
      "İki\n",
      "Üç\n"
     ]
    }
   ],
   "source": [
    "for item in sozluk.values():\n",
    "    print(item)"
   ]
  },
  {
   "cell_type": "markdown",
   "metadata": {},
   "source": [
    "## break"
   ]
  },
  {
   "cell_type": "code",
   "execution_count": 4,
   "metadata": {},
   "outputs": [
    {
     "name": "stdout",
     "output_type": "stream",
     "text": [
      "0\n",
      "1\n",
      "2\n",
      "3\n",
      "4\n"
     ]
    }
   ],
   "source": [
    "for i in range(5):\n",
    "    print(i)"
   ]
  },
  {
   "cell_type": "code",
   "execution_count": 5,
   "metadata": {},
   "outputs": [
    {
     "name": "stdout",
     "output_type": "stream",
     "text": [
      "0\n",
      "1\n",
      "2\n"
     ]
    }
   ],
   "source": [
    "for i in range(5):\n",
    "    if i == 3:\n",
    "        break\n",
    "    print(i)"
   ]
  },
  {
   "cell_type": "code",
   "execution_count": 2,
   "metadata": {},
   "outputs": [
    {
     "name": "stdout",
     "output_type": "stream",
     "text": [
      "2\n",
      "3\n",
      "4\n",
      "5\n",
      "6\n",
      "7\n",
      "8\n",
      "9\n",
      "10\n",
      "11\n",
      "12\n",
      "13\n",
      "14\n",
      "15\n",
      "Sayı Asal Değildir\n"
     ]
    }
   ],
   "source": [
    "sayi = input(\"Sayıyı Giriniz:\")\n",
    "if sayi and sayi.isdigit():\n",
    "    sayi = int(sayi)\n",
    "    if sayi > 2:\n",
    "        asalmi = 0\n",
    "        for i in range(2,sayi):\n",
    "            print(i)\n",
    "            if sayi % i == 0:\n",
    "                asalmi = 1\n",
    "        if not asalmi:\n",
    "            print(\"Sayı Asaldır\")\n",
    "        else:\n",
    "            print(\"Sayı Asal Değildir\")\n",
    "    else:\n",
    "        print(\"Sayı Asaldır\")"
   ]
  },
  {
   "cell_type": "code",
   "execution_count": 3,
   "metadata": {},
   "outputs": [
    {
     "name": "stdout",
     "output_type": "stream",
     "text": [
      "2\n",
      "3\n",
      "4\n",
      "5\n",
      "6\n",
      "7\n",
      "8\n",
      "9\n",
      "10\n",
      "Sayı Asaldır\n"
     ]
    }
   ],
   "source": [
    "sayi = input(\"Sayıyı Giriniz:\")\n",
    "if sayi and sayi.isdigit():\n",
    "    sayi = int(sayi)\n",
    "    if sayi > 2:\n",
    "        asalmi = 0\n",
    "        for i in range(2,sayi):\n",
    "            print(i)\n",
    "            if sayi % i == 0:\n",
    "                asalmi = 1\n",
    "                break # çalıştığında döngüyü kırar\n",
    "        if not asalmi:\n",
    "            print(\"Sayı Asaldır\")\n",
    "        else:\n",
    "            print(\"Sayı Asal Değildir\")        \n",
    "    else:\n",
    "        print(\"Sayı Asaldır\")"
   ]
  },
  {
   "cell_type": "markdown",
   "metadata": {},
   "source": [
    "## continue"
   ]
  },
  {
   "cell_type": "code",
   "execution_count": 9,
   "metadata": {},
   "outputs": [
    {
     "name": "stdout",
     "output_type": "stream",
     "text": [
      "0\n",
      "1\n",
      "2\n",
      "3\n",
      "4\n",
      "5\n"
     ]
    }
   ],
   "source": [
    "for i in range(6):\n",
    "    print(i)"
   ]
  },
  {
   "cell_type": "code",
   "execution_count": 10,
   "metadata": {},
   "outputs": [
    {
     "name": "stdout",
     "output_type": "stream",
     "text": [
      "0\n",
      "1\n",
      "2\n",
      "4\n",
      "5\n"
     ]
    }
   ],
   "source": [
    "for i in range(6):\n",
    "    if i == 3:\n",
    "        continue # 1 kez pas geçti\n",
    "    print(i)"
   ]
  },
  {
   "cell_type": "markdown",
   "metadata": {},
   "source": [
    "## else"
   ]
  },
  {
   "cell_type": "code",
   "execution_count": 11,
   "metadata": {},
   "outputs": [
    {
     "name": "stdout",
     "output_type": "stream",
     "text": [
      "0\n",
      "1\n",
      "2\n",
      "3\n",
      "4\n",
      "5\n",
      "Döngü Bitti\n"
     ]
    }
   ],
   "source": [
    "for i in range(6):\n",
    "    print(i)\n",
    "else:\n",
    "    print(\"Döngü Bitti\")"
   ]
  },
  {
   "cell_type": "code",
   "execution_count": 19,
   "metadata": {},
   "outputs": [
    {
     "name": "stdout",
     "output_type": "stream",
     "text": [
      "0\n",
      "1\n"
     ]
    }
   ],
   "source": [
    "for i in range(5):\n",
    "    if i == 2:\n",
    "        break # else çalışmaz\n",
    "    print(i)\n",
    "else:\n",
    "    print(\"Döngü Bitti\")"
   ]
  },
  {
   "cell_type": "code",
   "execution_count": 18,
   "metadata": {},
   "outputs": [
    {
     "name": "stdout",
     "output_type": "stream",
     "text": [
      "0\n",
      "1\n",
      "2\n",
      "3\n",
      "Döngü Bitti\n"
     ]
    }
   ],
   "source": [
    "for i in range(5): # 0 1 2 3 4\n",
    "    if i == 4:\n",
    "        continue # else ile birlikte çalışır\n",
    "    print(i)\n",
    "else:\n",
    "    print(\"Döngü Bitti\")"
   ]
  },
  {
   "cell_type": "code",
   "execution_count": 21,
   "metadata": {},
   "outputs": [
    {
     "name": "stdout",
     "output_type": "stream",
     "text": [
      "Sayı Asaldır\n"
     ]
    }
   ],
   "source": [
    "sayi = input(\"Sayıyı Giriniz:\") # 6\n",
    "if sayi and sayi.isdigit():\n",
    "    sayi = int(sayi)\n",
    "    if sayi > 2:\n",
    "        for i in range(2,sayi):  # 2,3,4,5\n",
    "            if sayi % i == 0: # 6 % 2 => 0\n",
    "                print(\"Sayı Asal Değildir\")\n",
    "                break # çalıştığında döngüyü kırar\n",
    "        else:\n",
    "            print(\"Sayı Asaldır\")\n",
    "    else:\n",
    "        print(\"Sayı Asaldır\")"
   ]
  },
  {
   "cell_type": "code",
   "execution_count": 23,
   "metadata": {},
   "outputs": [
    {
     "name": "stdout",
     "output_type": "stream",
     "text": [
      "çi pet pet pet pet \n"
     ]
    }
   ],
   "source": [
    "print(\"çi\",\"pet \"*4)"
   ]
  },
  {
   "cell_type": "markdown",
   "metadata": {},
   "source": [
    "```\n",
    "*\n",
    "* *\n",
    "* * *\n",
    "* * * *\n",
    "* * *\n",
    "* *\n",
    "*\n",
    "```"
   ]
  },
  {
   "cell_type": "code",
   "execution_count": 32,
   "metadata": {},
   "outputs": [
    {
     "name": "stdout",
     "output_type": "stream",
     "text": [
      "* \n",
      "* * \n",
      "* * * \n",
      "* * * * \n",
      "* * * * * \n",
      "* * * * * * \n",
      "* * * * * \n",
      "* * * * \n",
      "* * * \n",
      "* * \n",
      "* \n"
     ]
    }
   ],
   "source": [
    "a = int(input(\"Satır Sayısı Giriniz:\"))\n",
    "for i in range(1,a):\n",
    "    print(\"* \"*i)\n",
    "for i in range(a,0,-1):\n",
    "    print(\"* \"*i)"
   ]
  },
  {
   "cell_type": "markdown",
   "metadata": {},
   "source": [
    "```\n",
    "    *    \n",
    "   * *  \n",
    "  * * * \n",
    "   * * \n",
    "    * \n",
    "```"
   ]
  },
  {
   "cell_type": "code",
   "execution_count": 27,
   "metadata": {},
   "outputs": [
    {
     "data": {
      "text/plain": [
       "123"
      ]
     },
     "execution_count": 27,
     "metadata": {},
     "output_type": "execute_result"
    }
   ],
   "source": [
    "liste = [[231,123,100],[0,0,233],[123,222,110]]\n",
    "#            0             1          2\n",
    "#          0   1   2    0  1 2     0   1   2\n",
    "liste[0][1]"
   ]
  },
  {
   "cell_type": "code",
   "execution_count": 28,
   "metadata": {},
   "outputs": [
    {
     "name": "stdout",
     "output_type": "stream",
     "text": [
      "231\n",
      "123\n",
      "100\n",
      "0\n",
      "0\n",
      "233\n",
      "123\n",
      "222\n",
      "110\n"
     ]
    }
   ],
   "source": [
    "for i in range(len(liste)):\n",
    "    for j in range(len(liste[i])):\n",
    "        # print(i,j)\n",
    "        print(liste[i][j])"
   ]
  },
  {
   "cell_type": "code",
   "execution_count": null,
   "metadata": {},
   "outputs": [],
   "source": []
  }
 ],
 "metadata": {
  "kernelspec": {
   "display_name": "Python 3",
   "language": "python",
   "name": "python3"
  },
  "language_info": {
   "codemirror_mode": {
    "name": "ipython",
    "version": 3
   },
   "file_extension": ".py",
   "mimetype": "text/x-python",
   "name": "python",
   "nbconvert_exporter": "python",
   "pygments_lexer": "ipython3",
   "version": "3.12.0"
  }
 },
 "nbformat": 4,
 "nbformat_minor": 2
}
